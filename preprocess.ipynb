{
 "cells": [
  {
   "cell_type": "code",
   "execution_count": 2,
   "metadata": {
    "collapsed": true
   },
   "outputs": [],
   "source": [
    "import pandas as pd"
   ]
  },
  {
   "cell_type": "code",
   "execution_count": 41,
   "metadata": {
    "collapsed": false
   },
   "outputs": [
    {
     "name": "stdout",
     "output_type": "stream",
     "text": [
      "              ID CountryName      IndicatorCode  Year         Value\n",
      "0              0  Arab World        SP.ADO.TFRT  1960  1.335609e+02\n",
      "1              1  Arab World        SP.POP.DPND  1960  8.779760e+01\n",
      "2              2  Arab World     SP.POP.DPND.OL  1960  6.634579e+00\n",
      "3              3  Arab World     SP.POP.DPND.YG  1960  8.102333e+01\n",
      "4              4  Arab World     MS.MIL.XPRT.KD  1960  3.000000e+06\n",
      "5              5  Arab World     MS.MIL.MPRT.KD  1960  5.380000e+08\n",
      "6              6  Arab World     SP.DYN.CBRT.IN  1960  4.769789e+01\n",
      "7              7  Arab World     EN.ATM.CO2E.KT  1960  5.956399e+04\n",
      "8              8  Arab World     EN.ATM.CO2E.PC  1960  6.439635e-01\n",
      "9              9  Arab World  EN.ATM.CO2E.GF.ZS  1960  5.041292e+00\n",
      "10            10  Arab World  EN.ATM.CO2E.LF.ZS  1960  8.485147e+01\n",
      "11            11  Arab World  EN.ATM.CO2E.LF.KT  1960  4.954171e+04\n",
      "12            12  Arab World  EN.ATM.CO2E.SF.ZS  1960  4.726981e+00\n",
      "13            13  Arab World     SP.DYN.CDRT.IN  1960  1.975445e+01\n",
      "14            14  Arab World     SP.DYN.TFRT.IN  1960  6.924027e+00\n",
      "15            15  Arab World        IT.MLT.MAIN  1960  4.068330e+05\n",
      "16            16  Arab World     IT.MLT.MAIN.P2  1960  6.167006e-01\n",
      "17            17  Arab World     SH.MED.BEDS.ZS  1960  1.929622e+00\n",
      "18            18  Arab World     SM.POP.TOTL.ZS  1960  2.990637e+00\n",
      "19            19  Arab World        SM.POP.TOTL  1960  3.324685e+06\n",
      "20            20  Arab World  SP.DYN.LE00.FE.IN  1960  4.788325e+01\n",
      "21            21  Arab World  SP.DYN.LE00.MA.IN  1960  4.586295e+01\n",
      "22            22  Arab World     SP.DYN.LE00.IN  1960  4.684706e+01\n",
      "23            23  Arab World  TX.VAL.MRCH.CD.WT  1960  4.645919e+09\n",
      "24            24  Arab World  TX.VAL.MRCH.WL.CD  1960  2.468800e+09\n",
      "25            25  Arab World  TX.VAL.MRCH.RS.ZS  1960  1.646954e+01\n",
      "26            26  Arab World  TX.VAL.MRCH.R1.ZS  1960  2.260207e+00\n",
      "27            27  Arab World  TX.VAL.MRCH.R3.ZS  1960  4.496111e-01\n",
      "28            28  Arab World  TX.VAL.MRCH.R4.ZS  1960  6.379618e+00\n",
      "29            29  Arab World  TX.VAL.MRCH.R5.ZS  1960  2.790830e+00\n",
      "...          ...         ...                ...   ...           ...\n",
      "5656428  5656428    Zimbabwe     DT.INT.MLAT.CD  2015  1.626000e+06\n",
      "5656429  5656429    Zimbabwe     DT.AMT.OFFT.CD  2015  1.663930e+08\n",
      "5656430  5656430    Zimbabwe     DT.DIS.OFFT.CD  2015  8.377700e+07\n",
      "5656431  5656431    Zimbabwe     DT.INT.OFFT.CD  2015  2.321300e+07\n",
      "5656432  5656432    Zimbabwe     DT.AMT.PROP.CD  2015  6.250000e+05\n",
      "5656433  5656433    Zimbabwe     DT.DIS.PROP.CD  2015  0.000000e+00\n",
      "5656434  5656434    Zimbabwe     DT.INT.PROP.CD  2015  1.000000e+03\n",
      "5656435  5656435    Zimbabwe     DT.AMT.PRVT.CD  2015  6.250000e+05\n",
      "5656436  5656436    Zimbabwe     DT.DIS.PRVT.CD  2015  0.000000e+00\n",
      "5656437  5656437    Zimbabwe     DT.INT.PRVT.CD  2015  1.000000e+03\n",
      "5656438  5656438    Zimbabwe     DT.AMT.DLXF.CD  2015  1.670180e+08\n",
      "5656439  5656439    Zimbabwe     DT.AMT.DPNG.CD  2015  0.000000e+00\n",
      "5656440  5656440    Zimbabwe     IC.CRD.PRVT.ZS  2015  3.210000e+01\n",
      "5656441  5656441    Zimbabwe        IC.WRH.PROC  2015  1.000000e+01\n",
      "5656442  5656442    Zimbabwe        IC.PRP.PROC  2015  5.000000e+00\n",
      "5656443  5656443    Zimbabwe  IC.TAX.PRFT.CP.ZS  2015  1.880000e+01\n",
      "5656444  5656444    Zimbabwe     SG.GEN.PARL.ZS  2015  3.148148e+01\n",
      "5656445  5656445    Zimbabwe     IC.CRD.PUBL.ZS  2015  0.000000e+00\n",
      "5656446  5656446    Zimbabwe        IQ.SCI.SRCE  2015  6.000000e+01\n",
      "5656447  5656447    Zimbabwe        IC.REG.PROC  2015  9.000000e+00\n",
      "5656448  5656448    Zimbabwe     IC.LGL.CRED.XQ  2015  5.000000e+00\n",
      "5656449  5656449    Zimbabwe        IC.TAX.PAYM  2015  4.900000e+01\n",
      "5656450  5656450    Zimbabwe        IC.WRH.DURS  2015  4.480000e+02\n",
      "5656451  5656451    Zimbabwe        IC.LGL.DURS  2015  4.100000e+02\n",
      "5656452  5656452    Zimbabwe        IC.ELC.TIME  2015  1.060000e+02\n",
      "5656453  5656453    Zimbabwe        IC.PRP.DURS  2015  3.600000e+01\n",
      "5656454  5656454    Zimbabwe        IC.REG.DURS  2015  9.000000e+01\n",
      "5656455  5656455    Zimbabwe        IC.TAX.DURS  2015  2.420000e+02\n",
      "5656456  5656456    Zimbabwe        IC.ISV.DURS  2015  3.300000e+00\n",
      "5656457  5656457    Zimbabwe  IC.TAX.TOTL.CP.ZS  2015  3.280000e+01\n",
      "\n",
      "[5656458 rows x 5 columns]\n"
     ]
    }
   ],
   "source": [
    "indicators_df = pd.read_csv(\"Indicators.csv\")\n",
    "# india_df = indicators_df[indicators_df['CountryName']=='India']\n",
    "# indicators_df = indicators_df[indicators_df['IndicatorCode']=='NY.GDP.PCAP.KD']\n",
    "# print len(india_df)\n",
    "indicators_df.drop(\"IndicatorName\",axis = 1, inplace = True)\n",
    "indicators_df.drop(\"CountryCode\",axis = 1, inplace = True)\n",
    "indicators_df.insert(0, 'ID', range(0, len(indicators_df)))\n",
    "print indicators_df\n",
    "# india_df.columns"
   ]
  },
  {
   "cell_type": "code",
   "execution_count": 54,
   "metadata": {
    "collapsed": false
   },
   "outputs": [],
   "source": [
    "temp = indicators_df.pivot_table(\"Value\", [\"CountryName\", \"Year\"], \"IndicatorCode\").reset_index()"
   ]
  },
  {
   "cell_type": "code",
   "execution_count": 55,
   "metadata": {
    "collapsed": true
   },
   "outputs": [],
   "source": [
    "temp.to_csv('Indicators_Reshaped.csv')"
   ]
  },
  {
   "cell_type": "code",
   "execution_count": 51,
   "metadata": {
    "collapsed": false
   },
   "outputs": [],
   "source": [
    "india_df = temp[temp['CountryName']=='India']"
   ]
  },
  {
   "cell_type": "code",
   "execution_count": 53,
   "metadata": {
    "collapsed": false
   },
   "outputs": [],
   "source": [
    "india_df.to_csv('India_PreProcess.csv')"
   ]
  }
 ],
 "metadata": {
  "anaconda-cloud": {},
  "kernelspec": {
   "display_name": "Python [default]",
   "language": "python",
   "name": "python2"
  },
  "language_info": {
   "codemirror_mode": {
    "name": "ipython",
    "version": 2
   },
   "file_extension": ".py",
   "mimetype": "text/x-python",
   "name": "python",
   "nbconvert_exporter": "python",
   "pygments_lexer": "ipython2",
   "version": "2.7.12"
  }
 },
 "nbformat": 4,
 "nbformat_minor": 1
}
